{
 "cells": [
  {
   "cell_type": "code",
   "execution_count": 2,
   "metadata": {},
   "outputs": [
    {
     "name": "stdout",
     "output_type": "stream",
     "text": [
      "Collecting pydub\n",
      "  Using cached https://files.pythonhosted.org/packages/79/db/eaf620b73a1eec3c8c6f8f5b0b236a50f9da88ad57802154b7ba7664d0b8/pydub-0.23.1-py2.py3-none-any.whl\n",
      "Installing collected packages: pydub\n",
      "Successfully installed pydub-0.23.1\n",
      "\u001b[33mWARNING: You are using pip version 19.3.1; however, version 20.0.2 is available.\n",
      "You should consider upgrading via the 'pip install --upgrade pip' command.\u001b[0m\n",
      "Processing /home/ec2-user/.cache/pip/wheels/7f/68/d0/502d27bfe590bfa51c6fe95cf9e4482fed18c22c480a8d7c77/crepe-0.0.11-cp36-none-any.whl\n",
      "Collecting hmmlearn<0.3.0,>=0.2.0\n",
      "  Using cached https://files.pythonhosted.org/packages/ff/7b/33f629a443a0671161c019e55c3f1b511c7e9fdce5ab8c8c3c33470eb939/hmmlearn-0.2.3-cp36-cp36m-manylinux1_x86_64.whl\n",
      "Requirement already satisfied: numpy>=1.14.0 in /home/ec2-user/anaconda3/envs/tensorflow_p36/lib/python3.6/site-packages (from crepe) (1.16.4)\n",
      "Requirement already satisfied: imageio>=2.3.0 in /home/ec2-user/anaconda3/envs/tensorflow_p36/lib/python3.6/site-packages (from crepe) (2.3.0)\n",
      "Requirement already satisfied: matplotlib>=2.1.0 in /home/ec2-user/anaconda3/envs/tensorflow_p36/lib/python3.6/site-packages (from crepe) (3.0.3)\n",
      "Processing /home/ec2-user/.cache/pip/wheels/fa/c1/56/e0e12c6f7f3d2cdea9712b35136a2d40a7817c6210ec096485/resampy-0.2.2-cp36-none-any.whl\n",
      "Requirement already satisfied: scipy>=1.0.0 in /home/ec2-user/anaconda3/envs/tensorflow_p36/lib/python3.6/site-packages (from crepe) (1.4.1)\n",
      "Requirement already satisfied: scikit-learn>=0.16 in /home/ec2-user/anaconda3/envs/tensorflow_p36/lib/python3.6/site-packages (from crepe) (0.22.1)\n",
      "Requirement already satisfied: h5py<3.0.0,>=2.7.0 in /home/ec2-user/anaconda3/envs/tensorflow_p36/lib/python3.6/site-packages (from crepe) (2.8.0)\n",
      "Requirement already satisfied: python-dateutil>=2.1 in /home/ec2-user/anaconda3/envs/tensorflow_p36/lib/python3.6/site-packages (from matplotlib>=2.1.0->crepe) (2.7.3)\n",
      "Requirement already satisfied: cycler>=0.10 in /home/ec2-user/anaconda3/envs/tensorflow_p36/lib/python3.6/site-packages (from matplotlib>=2.1.0->crepe) (0.10.0)\n",
      "Requirement already satisfied: kiwisolver>=1.0.1 in /home/ec2-user/anaconda3/envs/tensorflow_p36/lib/python3.6/site-packages (from matplotlib>=2.1.0->crepe) (1.0.1)\n",
      "Requirement already satisfied: pyparsing!=2.0.4,!=2.1.2,!=2.1.6,>=2.0.1 in /home/ec2-user/anaconda3/envs/tensorflow_p36/lib/python3.6/site-packages (from matplotlib>=2.1.0->crepe) (2.2.0)\n",
      "Requirement already satisfied: numba>=0.32 in /home/ec2-user/anaconda3/envs/tensorflow_p36/lib/python3.6/site-packages (from resampy<0.3.0,>=0.2.0->crepe) (0.38.0)\n",
      "Requirement already satisfied: six>=1.3 in /home/ec2-user/anaconda3/envs/tensorflow_p36/lib/python3.6/site-packages (from resampy<0.3.0,>=0.2.0->crepe) (1.11.0)\n",
      "Requirement already satisfied: joblib>=0.11 in /home/ec2-user/anaconda3/envs/tensorflow_p36/lib/python3.6/site-packages (from scikit-learn>=0.16->crepe) (0.14.1)\n",
      "Requirement already satisfied: setuptools in /home/ec2-user/anaconda3/envs/tensorflow_p36/lib/python3.6/site-packages (from kiwisolver>=1.0.1->matplotlib>=2.1.0->crepe) (45.2.0)\n",
      "Requirement already satisfied: llvmlite>=0.23.0dev0 in /home/ec2-user/anaconda3/envs/tensorflow_p36/lib/python3.6/site-packages (from numba>=0.32->resampy<0.3.0,>=0.2.0->crepe) (0.23.1)\n",
      "Installing collected packages: hmmlearn, resampy, crepe\n",
      "Successfully installed crepe-0.0.11 hmmlearn-0.2.3 resampy-0.2.2\n",
      "\u001b[33mWARNING: You are using pip version 19.3.1; however, version 20.0.2 is available.\n",
      "You should consider upgrading via the 'pip install --upgrade pip' command.\u001b[0m\n",
      "Collecting tqdm\n",
      "  Using cached https://files.pythonhosted.org/packages/4a/1c/6359be64e8301b84160f6f6f7936bbfaaa5e9a4eab6cbc681db07600b949/tqdm-4.45.0-py2.py3-none-any.whl\n",
      "Installing collected packages: tqdm\n",
      "Successfully installed tqdm-4.45.0\n",
      "\u001b[33mWARNING: You are using pip version 19.3.1; however, version 20.0.2 is available.\n",
      "You should consider upgrading via the 'pip install --upgrade pip' command.\u001b[0m\n",
      "Solving environment: done\n",
      "\n",
      "\n",
      "==> WARNING: A newer version of conda exists. <==\n",
      "  current version: 4.5.12\n",
      "  latest version: 4.8.3\n",
      "\n",
      "Please update conda by running\n",
      "\n",
      "    $ conda update -n base -c defaults conda\n",
      "\n",
      "\n",
      "\n",
      "## Package Plan ##\n",
      "\n",
      "  environment location: /home/ec2-user/anaconda3/envs/tensorflow_p36\n",
      "\n",
      "  added / updated specs: \n",
      "    - ffmpeg\n",
      "\n",
      "\n",
      "The following NEW packages will be INSTALLED:\n",
      "\n",
      "    ffmpeg:          4.2-h167e202_0            conda-forge\n",
      "    gnutls:          3.6.5-hd3a4fd2_1002       conda-forge\n",
      "    lame:            3.100-h14c3975_1001       conda-forge\n",
      "    nettle:          3.4.1-h1bed415_1002       conda-forge\n",
      "    openh264:        1.8.0-hdbcaa40_1000       conda-forge\n",
      "    python_abi:      3.6-1_cp36m               conda-forge\n",
      "    x264:            1!152.20180806-h14c3975_0 conda-forge\n",
      "\n",
      "The following packages will be UPDATED:\n",
      "\n",
      "    bzip2:           1.0.6-h14c3975_5                      --> 1.0.8-h516909a_2          conda-forge\n",
      "    ca-certificates: 2020.1.1-0                            --> 2020.4.5.1-hecc5488_0     conda-forge\n",
      "    certifi:         2019.11.28-py36_0                     --> 2020.4.5.1-py36h9f0ad1d_0 conda-forge\n",
      "    cryptography:    2.3.1-py36hc365091_0                  --> 2.8-py36h45558ae_2        conda-forge\n",
      "    curl:            7.61.0-h84994c4_0                     --> 7.69.1-h33f0ec9_0         conda-forge\n",
      "    krb5:            1.14.2-hcdc1b81_6                     --> 1.17.1-h2fd8d38_0         conda-forge\n",
      "    libcurl:         7.61.0-h1ad7b7a_0                     --> 7.69.1-hf7181ac_0         conda-forge\n",
      "    libssh2:         1.8.0-h9cfc8f7_4                      --> 1.8.2-h22169c7_2          conda-forge\n",
      "    openssl:         1.0.2u-h7b6447c_0                     --> 1.1.1f-h516909a_0         conda-forge\n",
      "    pycurl:          7.43.0.2-py36hb7f436b_0               --> 7.43.0.5-py36h16ce93b_0   conda-forge\n",
      "    pykerberos:      1.2.1-py36h14c3975_0                  --> 1.2.1-py36h2afdebe_2      conda-forge\n",
      "    python:          3.6.6-h6e4f718_2                      --> 3.6.7-h381d211_1004       conda-forge\n",
      "    qt:              5.9.6-h8703b6f_2                      --> 5.9.7-h5867ecd_1                     \n",
      "\n",
      "Preparing transaction: done\n",
      "Verifying transaction: done\n",
      "Executing transaction: done\n"
     ]
    }
   ],
   "source": [
    "# Installing pip dependencies.\n",
    "!pip install pydub\n",
    "!pip install crepe\n",
    "!pip install tqdm\n",
    "# Installing conda dependencies\n",
    "!conda install -c conda-forge ffmpeg -y"
   ]
  },
  {
   "cell_type": "code",
   "execution_count": 3,
   "metadata": {},
   "outputs": [],
   "source": [
    "import sagemaker as sage\n",
    "from sagemaker import get_execution_role\n",
    "from sagemaker import ModelPackage\n",
    "import boto3\n",
    "\n",
    "from datetime import datetime\n",
    "import zipfile\n",
    "import os\n",
    "import json \n",
    "import uuid\n",
    "import requests\n",
    "import time\n",
    "from pydub import AudioSegment\n",
    "\n",
    "# Installing src dependency.\n",
    "import sys\n",
    "sys.path.append('src')\n",
    "import processing_util\n",
    "import audio_util"
   ]
  },
  {
   "cell_type": "code",
   "execution_count": 4,
   "metadata": {},
   "outputs": [
    {
     "name": "stdout",
     "output_type": "stream",
     "text": [
      "WARNING:tensorflow:From /home/ec2-user/anaconda3/envs/tensorflow_p36/lib/python3.6/site-packages/tensorflow_core/__init__.py:1467: The name tf.estimator.inputs is deprecated. Please use tf.compat.v1.estimator.inputs instead.\n",
      "\n",
      "WARNING:tensorflow:From /home/ec2-user/anaconda3/envs/tensorflow_p36/lib/python3.6/site-packages/tensorflow_core/python/ops/resource_variable_ops.py:1630: calling BaseResourceVariable.__init__ (from tensorflow.python.ops.resource_variable_ops) with constraint is deprecated and will be removed in a future version.\n",
      "Instructions for updating:\n",
      "If using Keras pass *_constraint arguments to layers.\n",
      "WARNING:tensorflow:OMP_NUM_THREADS is no longer used by the default Keras config. To configure the number of threads, use tf.config.threading APIs.\n",
      "WARNING:tensorflow:From /home/ec2-user/anaconda3/envs/tensorflow_p36/lib/python3.6/site-packages/tensorflow_core/python/ops/nn_impl.py:183: where (from tensorflow.python.ops.array_ops) is deprecated and will be removed in a future version.\n",
      "Instructions for updating:\n",
      "Use tf.where in 2.0, which has the same broadcast rule as np.where\n",
      "75/75 [==============================] - 7s 89ms/sample\n",
      "['E3', 'E3', 'E3', 'F3', 'F#3', 'F#3', 'F#3', 'F#3', 'F#3', 'F#3', 'F#3', 'F#3', 'F#3', 'F#3', 'F#3', 'F#3', 'F#3', 'F#3', 'F#3', 'F#3', 'F#3', 'F#3', 'F#3', 'F#3', 'F#3', 'F#3', 'F#3', 'F#3', 'F#3', 'F#3', 'F#3', 'F#3', 'F#3', 'F#3', 'F#3', 'F#3', 'F#3', 'F#3', 'F#3', 'F#3', 'F#3', 'F#3', 'G3', 'G#3', 'G#3', 'G#3', 'G#3', 'G#3', 'G#3', 'G#3', 'G#3', 'G#3', 'G#3', 'G#3', 'G#3', 'G#3', 'G#3', 'G#3', 'G#3', 'G#3', 'G#3', 'G3', 'F#3', 'F#3', 'F3', 'F3', 'E3', 'E3', 'E3', 'E3', 'E3', 'E3', 'E3', 'E3', 'E3']\n"
     ]
    },
    {
     "data": {
      "text/plain": [
       "42"
      ]
     },
     "execution_count": 4,
     "metadata": {},
     "output_type": "execute_result"
    }
   ],
   "source": [
    "x = audio_util.get_original_sample(34260.0, 35000.0)\n",
    "audio_util.determine_pitch(x, \"temp/\")"
   ]
  }
 ],
 "metadata": {
  "kernelspec": {
   "display_name": "conda_tensorflow_p36",
   "language": "python",
   "name": "conda_tensorflow_p36"
  },
  "language_info": {
   "codemirror_mode": {
    "name": "ipython",
    "version": 3
   },
   "file_extension": ".py",
   "mimetype": "text/x-python",
   "name": "python",
   "nbconvert_exporter": "python",
   "pygments_lexer": "ipython3",
   "version": "3.6.6"
  }
 },
 "nbformat": 4,
 "nbformat_minor": 4
}
